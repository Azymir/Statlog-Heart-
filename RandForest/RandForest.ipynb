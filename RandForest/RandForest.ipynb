{
 "cells": [
  {
   "cell_type": "code",
   "execution_count": 36,
   "metadata": {},
   "outputs": [],
   "source": [
    "from sklearn import neighbors, metrics,svm, datasets, preprocessing, model_selection\n",
    "from sklearn.svm import SVC\n",
    "from sklearn.neighbors import KNeighborsClassifier\n",
    "from sklearn.metrics import classification_report, confusion_matrix, accuracy_score, plot_confusion_matrix\n",
    "from sklearn.ensemble import RandomForestClassifier\n",
    "from sklearn.model_selection import train_test_split,GridSearchCV\n",
    "import matplotlib.pyplot as plt\n",
    "import seaborn as sns\n",
    "import pandas as pd\n",
    "import numpy as np"
   ]
  },
  {
   "cell_type": "code",
   "execution_count": 37,
   "metadata": {},
   "outputs": [],
   "source": [
    "# Charger les données\n",
    "df = pd.read_csv('heart.csv')"
   ]
  },
  {
   "cell_type": "code",
   "execution_count": 38,
   "metadata": {},
   "outputs": [
    {
     "data": {
      "text/html": [
       "<div>\n",
       "<style scoped>\n",
       "    .dataframe tbody tr th:only-of-type {\n",
       "        vertical-align: middle;\n",
       "    }\n",
       "\n",
       "    .dataframe tbody tr th {\n",
       "        vertical-align: top;\n",
       "    }\n",
       "\n",
       "    .dataframe thead th {\n",
       "        text-align: right;\n",
       "    }\n",
       "</style>\n",
       "<table border=\"1\" class=\"dataframe\">\n",
       "  <thead>\n",
       "    <tr style=\"text-align: right;\">\n",
       "      <th></th>\n",
       "      <th>age</th>\n",
       "      <th>sex</th>\n",
       "      <th>chest pain type</th>\n",
       "      <th>resting blood pressure</th>\n",
       "      <th>serum cholestoral in mg/dl</th>\n",
       "      <th>fasting blood sugar</th>\n",
       "      <th>resting electrocardiographic results</th>\n",
       "      <th>maximum heart rate achieved</th>\n",
       "      <th>exercise induced angina</th>\n",
       "      <th>oldpeak</th>\n",
       "      <th>the slope of the peak exercise ST segment</th>\n",
       "      <th>number of major vessels colored by flourosopy</th>\n",
       "      <th>thal normal; fixed defect; reversable defect</th>\n",
       "      <th>Variable to be predicted</th>\n",
       "    </tr>\n",
       "  </thead>\n",
       "  <tbody>\n",
       "    <tr>\n",
       "      <th>0</th>\n",
       "      <td>70.0</td>\n",
       "      <td>1.0</td>\n",
       "      <td>4.0</td>\n",
       "      <td>130.0</td>\n",
       "      <td>322.0</td>\n",
       "      <td>0.0</td>\n",
       "      <td>2.0</td>\n",
       "      <td>109.0</td>\n",
       "      <td>0.0</td>\n",
       "      <td>2.4</td>\n",
       "      <td>2.0</td>\n",
       "      <td>3.0</td>\n",
       "      <td>3.0</td>\n",
       "      <td>2</td>\n",
       "    </tr>\n",
       "    <tr>\n",
       "      <th>1</th>\n",
       "      <td>67.0</td>\n",
       "      <td>0.0</td>\n",
       "      <td>3.0</td>\n",
       "      <td>115.0</td>\n",
       "      <td>564.0</td>\n",
       "      <td>0.0</td>\n",
       "      <td>2.0</td>\n",
       "      <td>160.0</td>\n",
       "      <td>0.0</td>\n",
       "      <td>1.6</td>\n",
       "      <td>2.0</td>\n",
       "      <td>0.0</td>\n",
       "      <td>7.0</td>\n",
       "      <td>1</td>\n",
       "    </tr>\n",
       "    <tr>\n",
       "      <th>2</th>\n",
       "      <td>57.0</td>\n",
       "      <td>1.0</td>\n",
       "      <td>2.0</td>\n",
       "      <td>124.0</td>\n",
       "      <td>261.0</td>\n",
       "      <td>0.0</td>\n",
       "      <td>0.0</td>\n",
       "      <td>141.0</td>\n",
       "      <td>0.0</td>\n",
       "      <td>0.3</td>\n",
       "      <td>1.0</td>\n",
       "      <td>0.0</td>\n",
       "      <td>7.0</td>\n",
       "      <td>2</td>\n",
       "    </tr>\n",
       "    <tr>\n",
       "      <th>3</th>\n",
       "      <td>64.0</td>\n",
       "      <td>1.0</td>\n",
       "      <td>4.0</td>\n",
       "      <td>128.0</td>\n",
       "      <td>263.0</td>\n",
       "      <td>0.0</td>\n",
       "      <td>0.0</td>\n",
       "      <td>105.0</td>\n",
       "      <td>1.0</td>\n",
       "      <td>0.2</td>\n",
       "      <td>2.0</td>\n",
       "      <td>1.0</td>\n",
       "      <td>7.0</td>\n",
       "      <td>1</td>\n",
       "    </tr>\n",
       "    <tr>\n",
       "      <th>4</th>\n",
       "      <td>74.0</td>\n",
       "      <td>0.0</td>\n",
       "      <td>2.0</td>\n",
       "      <td>120.0</td>\n",
       "      <td>269.0</td>\n",
       "      <td>0.0</td>\n",
       "      <td>2.0</td>\n",
       "      <td>121.0</td>\n",
       "      <td>1.0</td>\n",
       "      <td>0.2</td>\n",
       "      <td>1.0</td>\n",
       "      <td>1.0</td>\n",
       "      <td>3.0</td>\n",
       "      <td>1</td>\n",
       "    </tr>\n",
       "  </tbody>\n",
       "</table>\n",
       "</div>"
      ],
      "text/plain": [
       "    age  sex  chest pain type  resting blood pressure  \\\n",
       "0  70.0  1.0              4.0                   130.0   \n",
       "1  67.0  0.0              3.0                   115.0   \n",
       "2  57.0  1.0              2.0                   124.0   \n",
       "3  64.0  1.0              4.0                   128.0   \n",
       "4  74.0  0.0              2.0                   120.0   \n",
       "\n",
       "   serum cholestoral in mg/dl  fasting blood sugar   \\\n",
       "0                       322.0                   0.0   \n",
       "1                       564.0                   0.0   \n",
       "2                       261.0                   0.0   \n",
       "3                       263.0                   0.0   \n",
       "4                       269.0                   0.0   \n",
       "\n",
       "   resting electrocardiographic results  maximum heart rate achieved  \\\n",
       "0                                   2.0                        109.0   \n",
       "1                                   2.0                        160.0   \n",
       "2                                   0.0                        141.0   \n",
       "3                                   0.0                        105.0   \n",
       "4                                   2.0                        121.0   \n",
       "\n",
       "   exercise induced angina   oldpeak  \\\n",
       "0                       0.0      2.4   \n",
       "1                       0.0      1.6   \n",
       "2                       0.0      0.3   \n",
       "3                       1.0      0.2   \n",
       "4                       1.0      0.2   \n",
       "\n",
       "   the slope of the peak exercise ST segment  \\\n",
       "0                                        2.0   \n",
       "1                                        2.0   \n",
       "2                                        1.0   \n",
       "3                                        2.0   \n",
       "4                                        1.0   \n",
       "\n",
       "   number of major vessels colored by flourosopy  \\\n",
       "0                                            3.0   \n",
       "1                                            0.0   \n",
       "2                                            0.0   \n",
       "3                                            1.0   \n",
       "4                                            1.0   \n",
       "\n",
       "   thal normal; fixed defect; reversable defect  Variable to be predicted  \n",
       "0                                           3.0                         2  \n",
       "1                                           7.0                         1  \n",
       "2                                           7.0                         2  \n",
       "3                                           7.0                         1  \n",
       "4                                           3.0                         1  "
      ]
     },
     "execution_count": 38,
     "metadata": {},
     "output_type": "execute_result"
    }
   ],
   "source": [
    "df.head(5)"
   ]
  },
  {
   "cell_type": "code",
   "execution_count": 39,
   "metadata": {},
   "outputs": [
    {
     "name": "stdout",
     "output_type": "stream",
     "text": [
      "<class 'pandas.core.frame.DataFrame'>\n",
      "RangeIndex: 270 entries, 0 to 269\n",
      "Data columns (total 14 columns):\n",
      " #   Column                                         Non-Null Count  Dtype  \n",
      "---  ------                                         --------------  -----  \n",
      " 0   age                                            270 non-null    float64\n",
      " 1   sex                                            270 non-null    float64\n",
      " 2   chest pain type                                270 non-null    float64\n",
      " 3   resting blood pressure                         270 non-null    float64\n",
      " 4   serum cholestoral in mg/dl                     270 non-null    float64\n",
      " 5   fasting blood sugar                            270 non-null    float64\n",
      " 6   resting electrocardiographic results           270 non-null    float64\n",
      " 7   maximum heart rate achieved                    270 non-null    float64\n",
      " 8   exercise induced angina                        270 non-null    float64\n",
      " 9   oldpeak                                        270 non-null    float64\n",
      " 10  the slope of the peak exercise ST segment      270 non-null    float64\n",
      " 11  number of major vessels colored by flourosopy  270 non-null    float64\n",
      " 12  thal normal; fixed defect; reversable defect   270 non-null    float64\n",
      " 13  Variable to be predicted                       270 non-null    int64  \n",
      "dtypes: float64(13), int64(1)\n",
      "memory usage: 29.7 KB\n"
     ]
    }
   ],
   "source": [
    "df.info()"
   ]
  },
  {
   "cell_type": "code",
   "execution_count": 40,
   "metadata": {},
   "outputs": [
    {
     "data": {
      "text/plain": [
       "age                                                    0\n",
       "sex                                                    0\n",
       "chest pain type                                        0\n",
       "resting blood pressure                                 0\n",
       "serum cholestoral                                      0\n",
       "fasting blood sugar                                    0\n",
       "resting electrocardiographic results                   0\n",
       "maximum heart rate achieved                            0\n",
       "exercise induced angina                                0\n",
       "oldpeak                                                0\n",
       "the slope of the peak exercise ST segment              0\n",
       "number of major vessels (0-3) colored by flourosopy    0\n",
       "thal fixed reversable defect                           0\n",
       "Variable to be predicted                               0\n",
       "dtype: int64"
      ]
     },
     "execution_count": 40,
     "metadata": {},
     "output_type": "execute_result"
    }
   ],
   "source": [
    "# Regarder les données manquantes\n",
    "\n",
    "data.columns = ['age', 'sex', 'chest pain type', 'resting blood pressure','serum cholestoral','fasting blood sugar','resting electrocardiographic results', 'maximum heart rate achieved', 'exercise induced angina', 'oldpeak', 'the slope of the peak exercise ST segment', 'number of major vessels (0-3) colored by flourosopy', 'thal fixed reversable defect', 'Variable to be predicted']\n",
    "data.isnull().sum()"
   ]
  },
  {
   "cell_type": "code",
   "execution_count": 41,
   "metadata": {},
   "outputs": [],
   "source": [
    "# On separe le jeu de donnée en 2 sous-jeu de donnée X et Y\n",
    "from sklearn import preprocessing\n",
    "\n",
    "X = data.iloc[:,:13].values\n",
    "y = data.iloc[:,13:].values"
   ]
  },
  {
   "cell_type": "code",
   "execution_count": 42,
   "metadata": {},
   "outputs": [
    {
     "name": "stdout",
     "output_type": "stream",
     "text": [
      "(270, 13)\n",
      "(270, 1)\n"
     ]
    }
   ],
   "source": [
    "print(X.shape)\n",
    "print(y.shape)"
   ]
  },
  {
   "cell_type": "code",
   "execution_count": 43,
   "metadata": {},
   "outputs": [],
   "source": [
    "### Simulation de données en deux dimensions séparables linéairement\n",
    "from sklearn.datasets import make_moons\n",
    "import matplotlib.pyplot as plt\n",
    "from sklearn.model_selection import train_test_split\n",
    "from sklearn.preprocessing import StandardScaler\n",
    "\n",
    "X_train, X_test, y_train, y_test = train_test_split(X, y, train_size=0.5,stratify=y, random_state=1) #\n",
    "\n",
    "model = StandardScaler() \n",
    "X_train = model.fit_transform(X_train) \n",
    "#X_train = model.transform(X_train) \n",
    "X_test = model.transform(X_test) "
   ]
  },
  {
   "cell_type": "code",
   "execution_count": 44,
   "metadata": {},
   "outputs": [
    {
     "name": "stdout",
     "output_type": "stream",
     "text": [
      "(135, 13)\n",
      "(135, 13)\n",
      "(135, 1)\n",
      "(135, 1)\n"
     ]
    }
   ],
   "source": [
    "print(X_train.shape)\n",
    "print(X_test.shape)\n",
    "print(y_train.shape)\n",
    "print(y_test.shape)"
   ]
  },
  {
   "cell_type": "code",
   "execution_count": 45,
   "metadata": {},
   "outputs": [
    {
     "data": {
      "text/plain": [
       "GridSearchCV(cv=5, estimator=RandomForestClassifier(),\n",
       "             param_grid={'criterion': ['gini', 'entropy'],\n",
       "                         'n_estimators': [5, 10, 50, 100]},\n",
       "             scoring='accuracy')"
      ]
     },
     "execution_count": 45,
     "metadata": {},
     "output_type": "execute_result"
    }
   ],
   "source": [
    "score = 'accuracy'\n",
    "param_grid_RandForest = { \n",
    "    'n_estimators': [5, 10, 50, 100],\n",
    "    'criterion' :['gini', 'entropy']\n",
    "}\n",
    "CV_rfc = model_selection.GridSearchCV(\n",
    "    RandomForestClassifier(), # un classifieur Random Forest\n",
    "    param_grid_RandForest,     # hyperparamètres à tester\n",
    "    cv=5,           # nombre de folds de validation croisée\n",
    "    scoring=score   # score à optimiser\n",
    ")\n",
    "\n",
    "# Optimiser ce classifieur sur le jeu d'entraînement\n",
    "CV_rfc.fit(X_train,y_train.ravel())"
   ]
  },
  {
   "cell_type": "code",
   "execution_count": 46,
   "metadata": {},
   "outputs": [
    {
     "name": "stdout",
     "output_type": "stream",
     "text": [
      "Meilleur(s) hyperparamètre(s) sur le jeu d'entraînement:\n",
      "{'criterion': 'entropy', 'n_estimators': 5}\n",
      "Résultats de la validation croisée :\n",
      "accuracy = 0.748 (+/-0.236) for {'criterion': 'gini', 'n_estimators': 5}\n",
      "accuracy = 0.785 (+/-0.098) for {'criterion': 'gini', 'n_estimators': 10}\n",
      "accuracy = 0.807 (+/-0.086) for {'criterion': 'gini', 'n_estimators': 50}\n",
      "accuracy = 0.785 (+/-0.098) for {'criterion': 'gini', 'n_estimators': 100}\n",
      "accuracy = 0.815 (+/-0.105) for {'criterion': 'entropy', 'n_estimators': 5}\n",
      "accuracy = 0.800 (+/-0.137) for {'criterion': 'entropy', 'n_estimators': 10}\n",
      "accuracy = 0.800 (+/-0.111) for {'criterion': 'entropy', 'n_estimators': 50}\n",
      "accuracy = 0.800 (+/-0.111) for {'criterion': 'entropy', 'n_estimators': 100}\n"
     ]
    }
   ],
   "source": [
    "print(\"Meilleur(s) hyperparamètre(s) sur le jeu d'entraînement:\") \n",
    "print(CV_rfc.best_params_)\n",
    "print(\"Résultats de la validation croisée :\")\n",
    "for mean, std, params in zip(\n",
    "        CV_rfc.cv_results_['mean_test_score'], # score moyen\n",
    "        CV_rfc.cv_results_['std_test_score'],  # écart-type du score\n",
    "        CV_rfc.cv_results_['params']           # valeur de l'hyperparamètre\n",
    "    ):\n",
    "\n",
    "    print(\"{} = {:.3f} (+/-{:.03f}) for {}\".format(\n",
    "        score,\n",
    "        mean,\n",
    "        std*2,\n",
    "        params\n",
    "    ) )"
   ]
  },
  {
   "cell_type": "code",
   "execution_count": 47,
   "metadata": {},
   "outputs": [
    {
     "name": "stdout",
     "output_type": "stream",
     "text": [
      "Classification Report:\n",
      "              precision    recall  f1-score   support\n",
      "\n",
      "           1       0.85      0.84      0.85        75\n",
      "           2       0.80      0.82      0.81        60\n",
      "\n",
      "    accuracy                           0.83       135\n",
      "   macro avg       0.83      0.83      0.83       135\n",
      "weighted avg       0.83      0.83      0.83       135\n",
      "\n",
      "Accuracy score:\n",
      "0.8296296296296296\n"
     ]
    }
   ],
   "source": [
    "final_model_RandForest = CV_rfc.best_estimator_\n",
    "y_pred_RF = final_model_RandForest.predict(X_test)\n",
    "\n",
    "result1 = classification_report(y_test, y_pred_RF)\n",
    "print(\"Classification Report:\",)\n",
    "print (result1)\n",
    "result2 = accuracy_score(y_test,y_pred_RF)\n",
    "print(\"Accuracy score:\",)\n",
    "print(result2)\n"
   ]
  },
  {
   "cell_type": "code",
   "execution_count": 48,
   "metadata": {},
   "outputs": [
    {
     "name": "stdout",
     "output_type": "stream",
     "text": [
      "Matrice de confusion:\n"
     ]
    },
    {
     "data": {
      "text/plain": [
       "<sklearn.metrics._plot.confusion_matrix.ConfusionMatrixDisplay at 0x28ec7ef0910>"
      ]
     },
     "execution_count": 48,
     "metadata": {},
     "output_type": "execute_result"
    },
    {
     "data": {
      "image/png": "[encoded data removed]",
      "text/plain": [
       "<Figure size 432x288 with 2 Axes>"
      ]
     },
     "metadata": {
      "needs_background": "light"
     },
     "output_type": "display_data"
    }
   ],
   "source": [
    "print(\"Matrice de confusion:\")\n",
    "plot_confusion_matrix(final_model_RandForest, X_test, y_test)"
   ]
  }
 ],
 "metadata": {
  "kernelspec": {
   "display_name": "Python 3",
   "language": "python",
   "name": "python3"
  },
  "language_info": {
   "codemirror_mode": {
    "name": "ipython",
    "version": 3
   },
   "file_extension": ".py",
   "mimetype": "text/x-python",
   "name": "python",
   "nbconvert_exporter": "python",
   "pygments_lexer": "ipython3",
   "version": "3.8.5"
  }
 },
 "nbformat": 4,
 "nbformat_minor": 4
}

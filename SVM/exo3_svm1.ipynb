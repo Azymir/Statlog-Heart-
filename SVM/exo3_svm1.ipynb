{
 "cells": [
  {
   "cell_type": "code",
   "execution_count": 1,
   "id": "f3a653f0",
   "metadata": {},
   "outputs": [
    {
     "name": "stdout",
     "output_type": "stream",
     "text": [
      "    age  sex  chest pain type  resting blood pressure  \\\n",
      "0  70.0  1.0              4.0                   130.0   \n",
      "1  67.0  0.0              3.0                   115.0   \n",
      "2  57.0  1.0              2.0                   124.0   \n",
      "3  64.0  1.0              4.0                   128.0   \n",
      "4  74.0  0.0              2.0                   120.0   \n",
      "\n",
      "   serum cholestoral in mg/dl  fasting blood sugar   \\\n",
      "0                       322.0                   0.0   \n",
      "1                       564.0                   0.0   \n",
      "2                       261.0                   0.0   \n",
      "3                       263.0                   0.0   \n",
      "4                       269.0                   0.0   \n",
      "\n",
      "   resting electrocardiographic results  maximum heart rate achieved  \\\n",
      "0                                   2.0                        109.0   \n",
      "1                                   2.0                        160.0   \n",
      "2                                   0.0                        141.0   \n",
      "3                                   0.0                        105.0   \n",
      "4                                   2.0                        121.0   \n",
      "\n",
      "   exercise induced angina   oldpeak  \\\n",
      "0                       0.0      2.4   \n",
      "1                       0.0      1.6   \n",
      "2                       0.0      0.3   \n",
      "3                       1.0      0.2   \n",
      "4                       1.0      0.2   \n",
      "\n",
      "   the slope of the peak exercise ST segment  \\\n",
      "0                                        2.0   \n",
      "1                                        2.0   \n",
      "2                                        1.0   \n",
      "3                                        2.0   \n",
      "4                                        1.0   \n",
      "\n",
      "   number of major vessels colored by flourosopy  \\\n",
      "0                                            3.0   \n",
      "1                                            0.0   \n",
      "2                                            0.0   \n",
      "3                                            1.0   \n",
      "4                                            1.0   \n",
      "\n",
      "   thal normal; fixed defect; reversable defect  Variable to be predicted  \n",
      "0                                           3.0                         2  \n",
      "1                                           7.0                         1  \n",
      "2                                           7.0                         2  \n",
      "3                                           7.0                         1  \n",
      "4                                           3.0                         1  \n"
     ]
    }
   ],
   "source": [
    "# Charger les données\n",
    "import pandas as pd\n",
    "\n",
    "data = pd.read_csv('heart.csv')\n",
    "print(data.head())\n",
    "#print(data.describe())"
   ]
  },
  {
   "cell_type": "code",
   "execution_count": 2,
   "id": "2d07a341",
   "metadata": {},
   "outputs": [
    {
     "data": {
      "text/plain": [
       "age                                                    0\n",
       "sex                                                    0\n",
       "chest pain type                                        0\n",
       "resting blood pressure                                 0\n",
       "serum cholestoral                                      0\n",
       "fasting blood sugar                                    0\n",
       "resting electrocardiographic results                   0\n",
       "maximum heart rate achieved                            0\n",
       "exercise induced angina                                0\n",
       "oldpeak                                                0\n",
       "the slope of the peak exercise ST segment              0\n",
       "number of major vessels (0-3) colored by flourosopy    0\n",
       "thal fixed reversable defect                           0\n",
       "Variable to be predicted                               0\n",
       "dtype: int64"
      ]
     },
     "execution_count": 2,
     "metadata": {},
     "output_type": "execute_result"
    }
   ],
   "source": [
    "# Regarder les données manquantes\n",
    "\n",
    "data.columns = ['age', 'sex', 'chest pain type', 'resting blood pressure','serum cholestoral','fasting blood sugar','resting electrocardiographic results', 'maximum heart rate achieved', 'exercise induced angina', 'oldpeak', 'the slope of the peak exercise ST segment', 'number of major vessels (0-3) colored by flourosopy', 'thal fixed reversable defect', 'Variable to be predicted']\n",
    "data.isnull().sum()"
   ]
  },
  {
   "cell_type": "code",
   "execution_count": 3,
   "id": "3d622288",
   "metadata": {},
   "outputs": [],
   "source": [
    "# On separe le jeu de donnée en 2 sous-jeu de donnée X et Y\n",
    "from sklearn import preprocessing\n",
    "\n",
    "X = data.iloc[:,:13].values\n",
    "y = data.iloc[:,13:].values"
   ]
  },
  {
   "cell_type": "code",
   "execution_count": 4,
   "id": "008bf18b",
   "metadata": {},
   "outputs": [
    {
     "name": "stdout",
     "output_type": "stream",
     "text": [
      "(270, 13)\n",
      "(270, 1)\n"
     ]
    }
   ],
   "source": [
    "print(X.shape)\n",
    "print(y.shape)"
   ]
  },
  {
   "cell_type": "code",
   "execution_count": 5,
   "id": "ec957580",
   "metadata": {},
   "outputs": [],
   "source": [
    "### Simulation de données en deux dimensions séparables linéairement\n",
    "from sklearn.datasets import make_moons\n",
    "import matplotlib.pyplot as plt\n",
    "from sklearn.model_selection import train_test_split\n",
    "from sklearn.preprocessing import StandardScaler\n",
    "\n",
    "X_train, X_test, y_train, y_test = train_test_split(X, y, train_size=0.5,stratify=y, random_state=1) #\n",
    "\n",
    "model = StandardScaler() \n",
    "X_train = model.fit_transform(X_train) \n",
    "#X_train = model.transform(X_train) \n",
    "X_test = model.transform(X_test) "
   ]
  },
  {
   "cell_type": "code",
   "execution_count": 6,
   "id": "c1a6b4d1",
   "metadata": {},
   "outputs": [
    {
     "name": "stdout",
     "output_type": "stream",
     "text": [
      "(135, 13)\n",
      "(135, 13)\n",
      "(135, 1)\n",
      "(135, 1)\n"
     ]
    }
   ],
   "source": [
    "print(X_train.shape)\n",
    "print(X_test.shape)\n",
    "print(y_train.shape)\n",
    "print(y_test.shape)"
   ]
  },
  {
   "cell_type": "code",
   "execution_count": 7,
   "id": "40d5c3d6",
   "metadata": {},
   "outputs": [
    {
     "data": {
      "text/plain": [
       "GridSearchCV(cv=5, estimator=SVC(class_weight={1: 5, 2: 1}),\n",
       "             param_grid=[{'C': array([1.e+00, 1.e+01, 1.e+02, 1.e+03, 1.e+04]),\n",
       "                          'gamma': array([ 0.01,  0.1 ,  1.  , 10.  ]),\n",
       "                          'kernel': ['rbf']},\n",
       "                         {'C': array([ 0.1,  1. , 10. ]), 'kernel': ['linear']},\n",
       "                         {'C': array([1.e-02, 1.e-01, 1.e+00, 1.e+01, 1.e+02]),\n",
       "                          'degree': [1, 2, 3, 4], 'kernel': ['poly']}],\n",
       "             scoring='accuracy')"
      ]
     },
     "execution_count": 7,
     "metadata": {},
     "output_type": "execute_result"
    }
   ],
   "source": [
    "import numpy as np\n",
    "from sklearn.svm import SVC\n",
    "from sklearn.model_selection import GridSearchCV\n",
    "\n",
    "param_grid = [{'kernel': ['rbf'], 'gamma': np.logspace(-2, 1, 4),'C': np.logspace(0, 4, 5)},\n",
    "               {'kernel': ['linear'], 'C': np.logspace(-1, 1, 3)},\n",
    "               {'kernel':['poly'], 'degree':[1, 2, 3, 4], 'C': np.logspace(-2, 2, 5)}]\n",
    "\n",
    "model = GridSearchCV(\n",
    "    estimator=SVC(class_weight ={1: 5, 2: 1}),\n",
    "    param_grid=param_grid,\n",
    "    cv=5,\n",
    "    scoring='accuracy'\n",
    ")\n",
    "\n",
    "model.fit(X_train,y_train.ravel())"
   ]
  },
  {
   "cell_type": "code",
   "execution_count": 8,
   "id": "5b2a071d",
   "metadata": {
    "scrolled": false
   },
   "outputs": [
    {
     "name": "stdout",
     "output_type": "stream",
     "text": [
      "Résultats de validation sur l'ensemble des paramètres:\n",
      "accuracy = 0.733 (+/-0.119) for {'C': 1.0, 'gamma': 0.01, 'kernel': 'rbf'}\n",
      "accuracy = 0.815 (+/-0.105) for {'C': 1.0, 'gamma': 0.1, 'kernel': 'rbf'}\n",
      "accuracy = 0.548 (+/-0.030) for {'C': 1.0, 'gamma': 1.0, 'kernel': 'rbf'}\n",
      "accuracy = 0.556 (+/-0.000) for {'C': 1.0, 'gamma': 10.0, 'kernel': 'rbf'}\n",
      "accuracy = 0.778 (+/-0.162) for {'C': 10.0, 'gamma': 0.01, 'kernel': 'rbf'}\n",
      "accuracy = 0.793 (+/-0.218) for {'C': 10.0, 'gamma': 0.1, 'kernel': 'rbf'}\n",
      "accuracy = 0.563 (+/-0.055) for {'C': 10.0, 'gamma': 1.0, 'kernel': 'rbf'}\n",
      "accuracy = 0.556 (+/-0.000) for {'C': 10.0, 'gamma': 10.0, 'kernel': 'rbf'}\n",
      "accuracy = 0.785 (+/-0.206) for {'C': 100.0, 'gamma': 0.01, 'kernel': 'rbf'}\n",
      "accuracy = 0.793 (+/-0.218) for {'C': 100.0, 'gamma': 0.1, 'kernel': 'rbf'}\n",
      "accuracy = 0.563 (+/-0.055) for {'C': 100.0, 'gamma': 1.0, 'kernel': 'rbf'}\n",
      "accuracy = 0.556 (+/-0.000) for {'C': 100.0, 'gamma': 10.0, 'kernel': 'rbf'}\n",
      "accuracy = 0.785 (+/-0.212) for {'C': 1000.0, 'gamma': 0.01, 'kernel': 'rbf'}\n",
      "accuracy = 0.793 (+/-0.218) for {'C': 1000.0, 'gamma': 0.1, 'kernel': 'rbf'}\n",
      "accuracy = 0.563 (+/-0.055) for {'C': 1000.0, 'gamma': 1.0, 'kernel': 'rbf'}\n",
      "accuracy = 0.556 (+/-0.000) for {'C': 1000.0, 'gamma': 10.0, 'kernel': 'rbf'}\n",
      "accuracy = 0.785 (+/-0.212) for {'C': 10000.0, 'gamma': 0.01, 'kernel': 'rbf'}\n",
      "accuracy = 0.793 (+/-0.218) for {'C': 10000.0, 'gamma': 0.1, 'kernel': 'rbf'}\n",
      "accuracy = 0.563 (+/-0.055) for {'C': 10000.0, 'gamma': 1.0, 'kernel': 'rbf'}\n",
      "accuracy = 0.556 (+/-0.000) for {'C': 10000.0, 'gamma': 10.0, 'kernel': 'rbf'}\n",
      "accuracy = 0.748 (+/-0.165) for {'C': 0.1, 'kernel': 'linear'}\n",
      "accuracy = 0.726 (+/-0.191) for {'C': 1.0, 'kernel': 'linear'}\n",
      "accuracy = 0.741 (+/-0.155) for {'C': 10.0, 'kernel': 'linear'}\n",
      "accuracy = 0.556 (+/-0.000) for {'C': 0.01, 'degree': 1, 'kernel': 'poly'}\n",
      "accuracy = 0.556 (+/-0.000) for {'C': 0.01, 'degree': 2, 'kernel': 'poly'}\n",
      "accuracy = 0.556 (+/-0.000) for {'C': 0.01, 'degree': 3, 'kernel': 'poly'}\n",
      "accuracy = 0.556 (+/-0.000) for {'C': 0.01, 'degree': 4, 'kernel': 'poly'}\n",
      "accuracy = 0.637 (+/-0.055) for {'C': 0.1, 'degree': 1, 'kernel': 'poly'}\n",
      "accuracy = 0.556 (+/-0.000) for {'C': 0.1, 'degree': 2, 'kernel': 'poly'}\n",
      "accuracy = 0.593 (+/-0.066) for {'C': 0.1, 'degree': 3, 'kernel': 'poly'}\n",
      "accuracy = 0.563 (+/-0.030) for {'C': 0.1, 'degree': 4, 'kernel': 'poly'}\n",
      "accuracy = 0.756 (+/-0.120) for {'C': 1.0, 'degree': 1, 'kernel': 'poly'}\n",
      "accuracy = 0.593 (+/-0.155) for {'C': 1.0, 'degree': 2, 'kernel': 'poly'}\n",
      "accuracy = 0.719 (+/-0.111) for {'C': 1.0, 'degree': 3, 'kernel': 'poly'}\n",
      "accuracy = 0.585 (+/-0.109) for {'C': 1.0, 'degree': 4, 'kernel': 'poly'}\n",
      "accuracy = 0.719 (+/-0.213) for {'C': 10.0, 'degree': 1, 'kernel': 'poly'}\n",
      "accuracy = 0.622 (+/-0.275) for {'C': 10.0, 'degree': 2, 'kernel': 'poly'}\n",
      "accuracy = 0.756 (+/-0.267) for {'C': 10.0, 'degree': 3, 'kernel': 'poly'}\n",
      "accuracy = 0.622 (+/-0.144) for {'C': 10.0, 'degree': 4, 'kernel': 'poly'}\n",
      "accuracy = 0.741 (+/-0.155) for {'C': 100.0, 'degree': 1, 'kernel': 'poly'}\n",
      "accuracy = 0.607 (+/-0.137) for {'C': 100.0, 'degree': 2, 'kernel': 'poly'}\n",
      "accuracy = 0.756 (+/-0.276) for {'C': 100.0, 'degree': 3, 'kernel': 'poly'}\n",
      "accuracy = 0.570 (+/-0.137) for {'C': 100.0, 'degree': 4, 'kernel': 'poly'}\n"
     ]
    }
   ],
   "source": [
    "from sklearn.metrics import classification_report, confusion_matrix, accuracy_score, plot_confusion_matrix\n",
    "print(\"Résultats de validation sur l'ensemble des paramètres:\")\n",
    "for mean, std, params in zip(model.cv_results_['mean_test_score'],\n",
    "                            model.cv_results_['std_test_score'],\n",
    "                            model.cv_results_['params']\n",
    "                            ):\n",
    "\n",
    "    print(\"{} = {:.3f} (+/-{:.03f}) for {}\".format('accuracy',mean,std*2,params))"
   ]
  },
  {
   "cell_type": "code",
   "execution_count": 9,
   "id": "2552d3ae",
   "metadata": {},
   "outputs": [
    {
     "name": "stdout",
     "output_type": "stream",
     "text": [
      "\n",
      "Meilleurs estimator:  SVC(class_weight={1: 5, 2: 1}, gamma=0.1)\n",
      "\n",
      "\n",
      "Meilleurs paramètres:  {'C': 1.0, 'gamma': 0.1, 'kernel': 'rbf'}\n",
      "\n",
      "Classification Report:\n",
      "              precision    recall  f1-score   support\n",
      "\n",
      "           1       0.81      0.89      0.85        75\n",
      "           2       0.85      0.73      0.79        60\n",
      "\n",
      "    accuracy                           0.82       135\n",
      "   macro avg       0.83      0.81      0.82       135\n",
      "weighted avg       0.82      0.82      0.82       135\n",
      "\n",
      "Accuracy score:\n",
      "0.8222222222222222\n",
      "\n",
      "Matrice de confusion:\n"
     ]
    },
    {
     "data": {
      "text/plain": [
       "<sklearn.metrics._plot.confusion_matrix.ConfusionMatrixDisplay at 0x7f44dc5f2070>"
      ]
     },
     "execution_count": 9,
     "metadata": {},
     "output_type": "execute_result"
    },
    {
     "data": {
      "image/png": "[encoded data removed]",
      "text/plain": [
       "<Figure size 432x288 with 2 Axes>"
      ]
     },
     "metadata": {
      "needs_background": "light"
     },
     "output_type": "display_data"
    }
   ],
   "source": [
    "print()\n",
    "print(\"Meilleurs estimator: \", model.best_estimator_)\n",
    "print()\n",
    "print()\n",
    "print(\"Meilleurs paramètres: \", model.best_params_)\n",
    "print()\n",
    "\n",
    "\n",
    "best_model = model.best_estimator_\n",
    "y_pred = best_model.predict(X_test)    \n",
    "\n",
    "\n",
    "result1 = classification_report(y_test, y_pred)\n",
    "print(\"Classification Report:\",)\n",
    "print (result1)\n",
    "result2 = accuracy_score(y_test,y_pred)\n",
    "print(\"Accuracy score:\",)\n",
    "print(result2)\n",
    "print()\n",
    "print(\"Matrice de confusion:\")\n",
    "plot_confusion_matrix(best_model, X_test, y_test)"
   ]
  }
 ],
 "metadata": {
  "kernelspec": {
   "display_name": "Python 3",
   "language": "python",
   "name": "python3"
  },
  "language_info": {
   "codemirror_mode": {
    "name": "ipython",
    "version": 3
   },
   "file_extension": ".py",
   "mimetype": "text/x-python",
   "name": "python",
   "nbconvert_exporter": "python",
   "pygments_lexer": "ipython3",
   "version": "3.8.8"
  }
 },
 "nbformat": 4,
 "nbformat_minor": 5
}
